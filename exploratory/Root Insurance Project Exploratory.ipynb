{
 "cells": [
  {
   "cell_type": "code",
   "execution_count": 1,
   "metadata": {},
   "outputs": [
    {
     "data": {
      "text/html": [
       "<div>\n",
       "<style scoped>\n",
       "    .dataframe tbody tr th:only-of-type {\n",
       "        vertical-align: middle;\n",
       "    }\n",
       "\n",
       "    .dataframe tbody tr th {\n",
       "        vertical-align: top;\n",
       "    }\n",
       "\n",
       "    .dataframe thead th {\n",
       "        text-align: right;\n",
       "    }\n",
       "</style>\n",
       "<table border=\"1\" class=\"dataframe\">\n",
       "  <thead>\n",
       "    <tr style=\"text-align: right;\">\n",
       "      <th></th>\n",
       "      <th>Currently_Insured</th>\n",
       "      <th>NumVehicles</th>\n",
       "      <th>NumDrivers</th>\n",
       "      <th>MaritalStat</th>\n",
       "      <th>bid</th>\n",
       "      <th>Rank</th>\n",
       "      <th>click</th>\n",
       "      <th>policies_sold</th>\n",
       "    </tr>\n",
       "  </thead>\n",
       "  <tbody>\n",
       "    <tr>\n",
       "      <th>0</th>\n",
       "      <td>unknown</td>\n",
       "      <td>2</td>\n",
       "      <td>1</td>\n",
       "      <td>M</td>\n",
       "      <td>10.0</td>\n",
       "      <td>2</td>\n",
       "      <td>False</td>\n",
       "      <td>0</td>\n",
       "    </tr>\n",
       "    <tr>\n",
       "      <th>1</th>\n",
       "      <td>Y</td>\n",
       "      <td>3</td>\n",
       "      <td>1</td>\n",
       "      <td>M</td>\n",
       "      <td>10.0</td>\n",
       "      <td>5</td>\n",
       "      <td>False</td>\n",
       "      <td>0</td>\n",
       "    </tr>\n",
       "    <tr>\n",
       "      <th>2</th>\n",
       "      <td>Y</td>\n",
       "      <td>3</td>\n",
       "      <td>2</td>\n",
       "      <td>M</td>\n",
       "      <td>10.0</td>\n",
       "      <td>5</td>\n",
       "      <td>False</td>\n",
       "      <td>0</td>\n",
       "    </tr>\n",
       "    <tr>\n",
       "      <th>3</th>\n",
       "      <td>N</td>\n",
       "      <td>3</td>\n",
       "      <td>2</td>\n",
       "      <td>S</td>\n",
       "      <td>10.0</td>\n",
       "      <td>4</td>\n",
       "      <td>False</td>\n",
       "      <td>0</td>\n",
       "    </tr>\n",
       "    <tr>\n",
       "      <th>4</th>\n",
       "      <td>unknown</td>\n",
       "      <td>2</td>\n",
       "      <td>2</td>\n",
       "      <td>S</td>\n",
       "      <td>10.0</td>\n",
       "      <td>2</td>\n",
       "      <td>False</td>\n",
       "      <td>0</td>\n",
       "    </tr>\n",
       "  </tbody>\n",
       "</table>\n",
       "</div>"
      ],
      "text/plain": [
       "  Currently_Insured  NumVehicles  NumDrivers MaritalStat   bid  Rank  click  \\\n",
       "0           unknown            2           1           M  10.0     2  False   \n",
       "1                 Y            3           1           M  10.0     5  False   \n",
       "2                 Y            3           2           M  10.0     5  False   \n",
       "3                 N            3           2           S  10.0     4  False   \n",
       "4           unknown            2           2           S  10.0     2  False   \n",
       "\n",
       "   policies_sold  \n",
       "0              0  \n",
       "1              0  \n",
       "2              0  \n",
       "3              0  \n",
       "4              0  "
      ]
     },
     "execution_count": 1,
     "metadata": {},
     "output_type": "execute_result"
    }
   ],
   "source": [
    "## Import packages\n",
    "\n",
    "import pandas as pd\n",
    "import numpy as np\n",
    "import matplotlib.pyplot as plt\n",
    "\n",
    "from pandas.plotting import scatter_matrix\n",
    "\n",
    "## Load data \n",
    "rootins_og = pd.read_csv(\"Root_Insurance_data.csv\")\n",
    "root_insurance = rootins_og.copy()\n",
    "root_insurance.head()\n",
    "\n",
    "## Change Column Names \n",
    "root_ins = root_insurance.rename({'Currently Insured':'Currently_Insured','Number of Vehicles':'NumVehicles',\n",
    "                                  'Number of Drivers':'NumDrivers','Marital Status':'MaritalStat','rank':'Rank'},axis='columns')\n",
    "root_ins.head()"
   ]
  },
  {
   "cell_type": "code",
   "execution_count": 30,
   "metadata": {},
   "outputs": [
    {
     "name": "stdout",
     "output_type": "stream",
     "text": [
      "        NumVehicles    NumDrivers      bid          Rank  policies_sold\n",
      "count  10000.000000  10000.000000  10000.0  10000.000000   10000.000000\n",
      "mean       1.965400      1.499900     10.0      3.184100       0.078300\n",
      "std        0.807755      0.500025      0.0      1.377242       0.268657\n",
      "min        1.000000      1.000000     10.0      1.000000       0.000000\n",
      "25%        1.000000      1.000000     10.0      2.000000       0.000000\n",
      "50%        2.000000      1.000000     10.0      3.000000       0.000000\n",
      "75%        3.000000      2.000000     10.0      4.000000       0.000000\n",
      "max        3.000000      2.000000     10.0      5.000000       1.000000\n",
      "\n",
      "There are 10,000 samples\n",
      "Of 10,000 samples,  1878  were clicked and  783  were sold.\n",
      "[[ 725.  886.]\n",
      " [ 740.  868.]\n",
      " [1173. 1228.]\n",
      " [1090.  999.]\n",
      " [1273. 1018.]]\n",
      "[725. 886.]\n",
      "2\n"
     ]
    },
    {
     "data": {
      "image/png": "[encoded data removed]",
      "text/plain": [
       "<Figure size 432x288 with 1 Axes>"
      ]
     },
     "metadata": {
      "needs_background": "light"
     },
     "output_type": "display_data"
    }
   ],
   "source": [
    "## Exploratory analysis\n",
    "print(root_ins.describe())\n",
    "print()\n",
    "print(\"There are 10,000 samples\")\n",
    "\n",
    "## Clicks -> sold \n",
    "sold_policies = root_ins.loc[(root_ins.policies_sold == 1) & (root_ins.click == True)]\n",
    "clicked = root_ins.loc[(root_ins.click == 1)]\n",
    "\n",
    "print('Of 10,000 samples, ',clicked.shape[0],' were clicked and ',sold_policies.shape[0],' were sold.')\n",
    "\n",
    "## Rank of Bids per Number of drivers \n",
    "max_driver = root_ins['NumDrivers'].max()\n",
    "max_rank = root_ins['Rank'].max()\n",
    "\n",
    "rank_by_driver = np.empty((max_rank,max_driver))\n",
    "\n",
    "for j in range(1,max_driver+1):\n",
    "    \n",
    "    for i in range(1,max_rank+1):\n",
    "        rank_by_driver[i-1,j-1] = root_ins.loc[(root_ins.NumDrivers == j) & (root_ins.Rank == i)].shape[0]\n",
    "        \n",
    "print(rank_by_driver)\n",
    "\n",
    "X = np.arange(2)\n",
    "fig = plt.figure()\n",
    "ax = fig.add_axes([0,0,1,1])\n",
    "ax.bar(X + 0.00, rank_by_driver[0], color = 'b', width = 0.15)\n",
    "ax.bar(X + 0.15, rank_by_driver[1], color = 'g', width = 0.15)\n",
    "ax.bar(X + 0.3, rank_by_driver[2], color = 'r', width = 0.15)\n",
    "ax.bar(X + 0.45, rank_by_driver[3], color = 'c', width = 0.15)\n",
    "ax.bar(X + 0.6, rank_by_driver[4], color = 'm', width = 0.15)\n",
    "\n",
    "ax.legend(labels=['R1', 'R2','R3','R4','R5'])\n",
    "\n",
    "ind = np.arange(max_driver)\n",
    "ax.set_xticks([.3,1.3])\n",
    "ax.set_xticklabels(['One','Two'])\n",
    "plt.xlabel('Number of Drivers')\n",
    "plt.ylabel('Frequency')\n",
    "plt.title('Rank of Bids per Number of Drivers')\n",
    "## Customer info -> policies sold\n",
    "print(rank_by_driver[0])\n"
   ]
  },
  {
   "cell_type": "code",
   "execution_count": 3,
   "metadata": {},
   "outputs": [
    {
     "name": "stdout",
     "output_type": "stream",
     "text": [
      "[[ 898.  561.  152.]\n",
      " [ 910.  463.  235.]\n",
      " [ 927.  744.  730.]\n",
      " [ 531.  695.  863.]\n",
      " [ 175. 1001. 1115.]]\n"
     ]
    },
    {
     "data": {
      "text/plain": [
       "Text(0.5, 1.0, 'Rank of Bids per Number of Vehicles')"
      ]
     },
     "execution_count": 3,
     "metadata": {},
     "output_type": "execute_result"
    },
    {
     "data": {
      "image/png": "[encoded data removed]",
      "text/plain": [
       "<Figure size 432x288 with 1 Axes>"
      ]
     },
     "metadata": {
      "needs_background": "light"
     },
     "output_type": "display_data"
    }
   ],
   "source": [
    "## Rank of Drivers per Number of Vehicle \n",
    "\n",
    "max_vehicle = root_ins['NumVehicles'].max()\n",
    "max_rank = root_ins['Rank'].max()\n",
    "\n",
    "rank_by_vehicle = np.empty((max_rank,max_vehicle))\n",
    "\n",
    "for j in range(1,max_vehicle+1):\n",
    "    \n",
    "    for i in range(1,max_rank+1):\n",
    "        rank_by_vehicle[i-1,j-1] = root_ins.loc[(root_ins.NumVehicles == j) & (root_ins.Rank == i)].shape[0]\n",
    "        \n",
    "print(rank_by_vehicle)\n",
    "\n",
    "X = np.arange(max_vehicle)\n",
    "fig = plt.figure()\n",
    "ax = fig.add_axes([0,0,1,1])\n",
    "ax.bar(X + 0.00, rank_by_vehicle[0], color = 'b', width = 0.15)\n",
    "ax.bar(X + 0.15, rank_by_vehicle[1], color = 'g', width = 0.15)\n",
    "ax.bar(X + 0.3, rank_by_vehicle[2], color = 'r', width = 0.15)\n",
    "ax.bar(X + 0.45, rank_by_vehicle[3], color = 'c', width = 0.15)\n",
    "ax.bar(X + 0.6, rank_by_vehicle[4], color = 'm', width = 0.15)\n",
    "\n",
    "ax.legend(labels=['R1', 'R2','R3','R4','R5'])\n",
    "\n",
    "ax.set_xticks([.3,1.3,2.3])\n",
    "ax.set_xticklabels(['One','Two','Three'])\n",
    "plt.xlabel('Number of Vehicles')\n",
    "plt.ylabel('Frequency')\n",
    "plt.title('Rank of Bids per Number of Vehicles')\n",
    "## Customer info -> policies sold"
   ]
  },
  {
   "cell_type": "code",
   "execution_count": 4,
   "metadata": {},
   "outputs": [
    {
     "name": "stdout",
     "output_type": "stream",
     "text": [
      "[[ 805.  806.]\n",
      " [ 827.  781.]\n",
      " [1269. 1132.]\n",
      " [1086. 1003.]\n",
      " [1204. 1087.]]\n",
      "['M' 'S']\n"
     ]
    },
    {
     "data": {
      "image/png": "[encoded data removed]",
      "text/plain": [
       "<Figure size 432x288 with 1 Axes>"
      ]
     },
     "metadata": {
      "needs_background": "light"
     },
     "output_type": "display_data"
    }
   ],
   "source": [
    "## Rank of customers per Marital Status \n",
    "\n",
    "MSvals = root_ins.MaritalStat.unique()\n",
    "numMS = len(MSvals)\n",
    "\n",
    "rank_by_ms = np.empty((max_rank,numMS))\n",
    "\n",
    "for j in range(1,numMS+1):\n",
    "    \n",
    "    for i in range(1,max_rank+1):\n",
    "        rank_by_ms[i-1,j-1] = root_ins.loc[(root_ins.MaritalStat == MSvals[j-1]) & (root_ins.Rank == i)].shape[0]\n",
    "\n",
    "print(rank_by_ms)\n",
    "\n",
    "X = np.arange(numMS)\n",
    "fig = plt.figure()\n",
    "ax = fig.add_axes([0,0,1,1])\n",
    "ax.bar(X + 0.00, rank_by_ms[0], color = 'b', width = 0.15)\n",
    "ax.bar(X + 0.15, rank_by_ms[1], color = 'g', width = 0.15)\n",
    "ax.bar(X + 0.3, rank_by_ms[2], color = 'r', width = 0.15)\n",
    "ax.bar(X + 0.45, rank_by_ms[3], color = 'c', width = 0.15)\n",
    "ax.bar(X + 0.6, rank_by_ms[4], color = 'm', width = 0.15)\n",
    "\n",
    "ax.legend(labels=['R1', 'R2','R3','R4','R5'])\n",
    "\n",
    "ax.set_xticks([.3,1.3])\n",
    "ax.set_xticklabels(['Married','Single'])\n",
    "plt.xlabel('Marital Status')\n",
    "plt.ylabel('Frequency')\n",
    "plt.title('Rank of Bids based on Marital Status')\n",
    "print(MSvals)"
   ]
  },
  {
   "cell_type": "code",
   "execution_count": 5,
   "metadata": {
    "scrolled": true
   },
   "outputs": [
    {
     "name": "stdout",
     "output_type": "stream",
     "text": [
      "[[ 763. 1146. 2050. 1921. 2242.]\n",
      " [ 848.  462.  351.  168.   49.]]\n"
     ]
    },
    {
     "data": {
      "text/plain": [
       "Text(0.5, 1.0, 'Click Status based on Rank')"
      ]
     },
     "execution_count": 5,
     "metadata": {},
     "output_type": "execute_result"
    },
    {
     "data": {
      "image/png": "[encoded data removed]",
      "text/plain": [
       "<Figure size 432x288 with 1 Axes>"
      ]
     },
     "metadata": {
      "needs_background": "light"
     },
     "output_type": "display_data"
    }
   ],
   "source": [
    "## Whether customers clicked, based on Rank \n",
    "\n",
    "click_stat = root_ins.click.unique()\n",
    "numClick = len(click_stat)\n",
    "\n",
    "click_by_rank = np.empty((numClick,max_rank))\n",
    "\n",
    "for j in range(1,numClick+1):\n",
    "    \n",
    "    for i in range(1,max_rank+1):\n",
    "        click_by_rank[j-1,i-1] = root_ins.loc[(root_ins.click == click_stat[j-1]) & (root_ins.Rank == i)].shape[0]\n",
    "\n",
    "print(click_by_rank)\n",
    "\n",
    "X = np.arange(max_rank)\n",
    "fig = plt.figure()\n",
    "ax = fig.add_axes([0,0,1,1])\n",
    "ax.bar(X + 0.00, click_by_rank[0], color = 'b', width = 0.2)\n",
    "ax.bar(X + 0.2, click_by_rank[1], color = 'g', width = 0.2)\n",
    "\n",
    "\n",
    "ax.legend(labels=['Not Clicked','Clicked'])\n",
    "\n",
    "ax.set_xticks([.2,1.2,2.2,3.2,4.2])\n",
    "ax.set_xticklabels(['1','2','3','4','5'])\n",
    "plt.xlabel('Rank')\n",
    "plt.ylabel('Frequency')\n",
    "plt.title('Click Status based on Rank')\n"
   ]
  },
  {
   "cell_type": "code",
   "execution_count": 6,
   "metadata": {},
   "outputs": [
    {
     "name": "stdout",
     "output_type": "stream",
     "text": [
      "[[4279. 3843.]\n",
      " [ 912.  966.]]\n"
     ]
    },
    {
     "data": {
      "text/plain": [
       "Text(0.5, 1.0, 'Click Status based on Marital Status')"
      ]
     },
     "execution_count": 6,
     "metadata": {},
     "output_type": "execute_result"
    },
    {
     "data": {
      "image/png": "[encoded data removed]",
      "text/plain": [
       "<Figure size 432x288 with 1 Axes>"
      ]
     },
     "metadata": {
      "needs_background": "light"
     },
     "output_type": "display_data"
    }
   ],
   "source": [
    "## Whether customers clicked, based on Marital Status \n",
    "\n",
    "click_by_MS = np.empty((numClick,numMS))\n",
    "\n",
    "for j in range(0,numClick):\n",
    "    \n",
    "    for i in range(0,numMS):\n",
    "        click_by_MS[j,i] = root_ins.loc[(root_ins.click == click_stat[j]) & (root_ins.MaritalStat == MSvals[i])].shape[0]\n",
    "\n",
    "print(click_by_MS)\n",
    "\n",
    "X = np.arange(numMS)\n",
    "fig = plt.figure()\n",
    "ax = fig.add_axes([0,0,1,1])\n",
    "ax.bar(X + 0.00, click_by_MS[0], color = 'b', width = 0.2)\n",
    "ax.bar(X + 0.2, click_by_MS[1], color = 'g', width = 0.2)\n",
    "\n",
    "\n",
    "ax.legend(labels=['Not Clicked','Clicked'])\n",
    "\n",
    "ax.set_xticks([.1,1.1])\n",
    "ax.set_xticklabels(['Married','Single'])\n",
    "plt.xlabel('Marital Status')\n",
    "plt.ylabel('Frequency')\n",
    "plt.title('Click Status based on Marital Status')"
   ]
  },
  {
   "cell_type": "code",
   "execution_count": 31,
   "metadata": {},
   "outputs": [
    {
     "name": "stdout",
     "output_type": "stream",
     "text": [
      "[[4104. 4018.]\n",
      " [ 897.  981.]]\n",
      "2\n"
     ]
    },
    {
     "data": {
      "image/png": "[encoded data removed]",
      "text/plain": [
       "<Figure size 432x288 with 1 Axes>"
      ]
     },
     "metadata": {
      "needs_background": "light"
     },
     "output_type": "display_data"
    }
   ],
   "source": [
    "## Whether customers clicked, based on the number of Drivers \n",
    "\n",
    "click_by_driver = np.empty((numClick,max_driver))\n",
    "\n",
    "for j in range(0,numClick):\n",
    "    \n",
    "    for i in range(1,max_driver+1):\n",
    "        click_by_driver[j,i-1] = root_ins.loc[(root_ins.click == click_stat[j]) & (root_ins.NumDrivers == i)].shape[0]\n",
    "\n",
    "print(click_by_driver)\n",
    "\n",
    "X = np.arange(max_driver)\n",
    "fig = plt.figure()\n",
    "ax = fig.add_axes([0,0,1,1])\n",
    "ax.bar(X + 0.00, click_by_driver[0], color = 'b', width = 0.2)\n",
    "ax.bar(X + 0.2, click_by_driver[1], color = 'g', width = 0.2)\n",
    "\n",
    "\n",
    "ax.legend(labels=['Not Clicked','Clicked'])\n",
    "\n",
    "ax.set_xticks([.1,1.1])\n",
    "ax.set_xticklabels(['1','2'])\n",
    "plt.xlabel('Number of Drivers')\n",
    "plt.ylabel('Frequency')\n",
    "plt.title('Click Status based on Number of Drivers')\n"
   ]
  },
  {
   "cell_type": "code",
   "execution_count": 8,
   "metadata": {},
   "outputs": [
    {
     "name": "stdout",
     "output_type": "stream",
     "text": [
      "[[2480. 2901. 2741.]\n",
      " [ 961.  563.  354.]]\n"
     ]
    },
    {
     "data": {
      "text/plain": [
       "Text(0.5, 1.0, 'Click Status based on Number of Vehicles')"
      ]
     },
     "execution_count": 8,
     "metadata": {},
     "output_type": "execute_result"
    },
    {
     "data": {
      "image/png": "[encoded data removed]",
      "text/plain": [
       "<Figure size 432x288 with 1 Axes>"
      ]
     },
     "metadata": {
      "needs_background": "light"
     },
     "output_type": "display_data"
    }
   ],
   "source": [
    "## Whether customers clicked, based on the number of vehicles \n",
    "\n",
    "click_by_vehicle = np.empty((numClick,max_vehicle))\n",
    "\n",
    "for j in range(0,numClick):\n",
    "    \n",
    "    for i in range(1,max_vehicle+1):\n",
    "        click_by_vehicle[j,i-1] = root_ins.loc[(root_ins.click == click_stat[j]) & (root_ins.NumVehicles == i)].shape[0]\n",
    "\n",
    "print(click_by_vehicle)\n",
    "\n",
    "X = np.arange(max_vehicle)\n",
    "fig = plt.figure()\n",
    "ax = fig.add_axes([0,0,1,1])\n",
    "ax.bar(X + 0.00, click_by_vehicle[0], color = 'b', width = 0.15)\n",
    "ax.bar(X + 0.15, click_by_vehicle[1], color = 'g', width = 0.15)\n",
    "\n",
    "ax.legend(labels=['Not Clicked','Clicked'])\n",
    "\n",
    "ax.set_xticks([.1,1.1,2.1])\n",
    "ax.set_xticklabels(['1','2','3'])\n",
    "plt.xlabel('Number of Vehicles')\n",
    "plt.ylabel('Frequency')\n",
    "plt.title('Click Status based on Number of Vehicles')\n",
    "\n"
   ]
  },
  {
   "cell_type": "code",
   "execution_count": 9,
   "metadata": {},
   "outputs": [
    {
     "name": "stdout",
     "output_type": "stream",
     "text": [
      "[[1253. 1399. 2263. 2031. 2271.]\n",
      " [ 358.  209.  138.   58.   20.]]\n"
     ]
    },
    {
     "data": {
      "text/plain": [
       "Text(0.5, 1.0, 'Policies Sold based on Rank')"
      ]
     },
     "execution_count": 9,
     "metadata": {},
     "output_type": "execute_result"
    },
    {
     "data": {
      "image/png": "[encoded data removed]",
      "text/plain": [
       "<Figure size 432x288 with 1 Axes>"
      ]
     },
     "metadata": {
      "needs_background": "light"
     },
     "output_type": "display_data"
    }
   ],
   "source": [
    "## How many policies were sold based on rank\n",
    "\n",
    "sold_stat = root_ins.policies_sold.unique()\n",
    "numPS = len(sold_stat)\n",
    "\n",
    "sold_by_rank = np.empty((numPS,max_rank))\n",
    "\n",
    "for j in range(0,numClick):\n",
    "    \n",
    "    for i in range(1,max_rank+1):\n",
    "        sold_by_rank[j,i-1] = root_ins.loc[(root_ins.policies_sold == sold_stat[j]) & (root_ins.Rank == i)].shape[0]\n",
    "\n",
    "print(sold_by_rank)\n",
    "\n",
    "X = np.arange(max_rank)\n",
    "fig = plt.figure()\n",
    "ax = fig.add_axes([0,0,1,1])\n",
    "ax.bar(X + 0.00, click_by_rank[0], color = 'b', width = 0.2)\n",
    "ax.bar(X + 0.2, click_by_rank[1], color = 'g', width = 0.2)\n",
    "\n",
    "\n",
    "ax.legend(labels=['0','Sold'])\n",
    "\n",
    "ax.set_xticks([.2,1.2,2.2,3.2,4.2])\n",
    "ax.set_xticklabels(['1','2','3','4','5'])\n",
    "plt.xlabel('Rank')\n",
    "plt.ylabel('Frequency')\n",
    "plt.title('Policies Sold based on Rank')\n",
    "\n"
   ]
  },
  {
   "cell_type": "code",
   "execution_count": 10,
   "metadata": {},
   "outputs": [
    {
     "name": "stdout",
     "output_type": "stream",
     "text": [
      "[[4279. 3843.]\n",
      " [ 912.  966.]]\n"
     ]
    },
    {
     "data": {
      "text/plain": [
       "Text(0.5, 1.0, 'Policies Sold based on Marital Status')"
      ]
     },
     "execution_count": 10,
     "metadata": {},
     "output_type": "execute_result"
    },
    {
     "data": {
      "image/png": "[encoded data removed]",
      "text/plain": [
       "<Figure size 432x288 with 1 Axes>"
      ]
     },
     "metadata": {
      "needs_background": "light"
     },
     "output_type": "display_data"
    }
   ],
   "source": [
    "## Policies sold based on marital status \n",
    "\n",
    "sale_by_MS = np.empty((numPS,numMS))\n",
    "\n",
    "for j in range(0,numPS):\n",
    "    \n",
    "    for i in range(0,numMS):\n",
    "        sale_by_MS[j,i] = root_ins.loc[(root_ins.policies_sold == sold_stat[j]) & (root_ins.MaritalStat == MSvals[i])].shape[0]\n",
    "\n",
    "print(click_by_MS)\n",
    "\n",
    "X = np.arange(numMS)\n",
    "fig = plt.figure()\n",
    "ax = fig.add_axes([0,0,1,1])\n",
    "ax.bar(X + 0.00, click_by_MS[0], color = 'b', width = 0.2)\n",
    "ax.bar(X + 0.2, click_by_MS[1], color = 'g', width = 0.2)\n",
    "\n",
    "\n",
    "ax.legend(labels=['0','Sold'])\n",
    "\n",
    "ax.set_xticks([.1,1.1])\n",
    "ax.set_xticklabels(['Married','Single'])\n",
    "plt.xlabel('Marital Status')\n",
    "plt.ylabel('Frequency')\n",
    "plt.title('Policies Sold based on Marital Status')"
   ]
  },
  {
   "cell_type": "code",
   "execution_count": 32,
   "metadata": {},
   "outputs": [
    {
     "name": "stdout",
     "output_type": "stream",
     "text": [
      "[[4104. 4018.]\n",
      " [ 897.  981.]]\n",
      "2\n"
     ]
    },
    {
     "data": {
      "image/png": "[encoded data removed]",
      "text/plain": [
       "<Figure size 432x288 with 1 Axes>"
      ]
     },
     "metadata": {
      "needs_background": "light"
     },
     "output_type": "display_data"
    }
   ],
   "source": [
    "## policies sold based on number of drivers \n",
    "\n",
    "sale_by_driver = np.empty((numPS,max_driver))\n",
    "\n",
    "for j in range(0,numPS):\n",
    "    \n",
    "    for i in range(1,max_driver+1):\n",
    "        sale_by_driver[j,i-1] = root_ins.loc[(root_ins.policies_sold == click_stat[j]) & (root_ins.NumDrivers == i)].shape[0]\n",
    "\n",
    "print(click_by_driver)\n",
    "\n",
    "X = np.arange(max_driver)\n",
    "fig = plt.figure()\n",
    "ax = fig.add_axes([0,0,1,1])\n",
    "ax.bar(X + 0.00, click_by_driver[0], color = 'b', width = 0.2)\n",
    "ax.bar(X + 0.2, click_by_driver[1], color = 'g', width = 0.2)\n",
    "\n",
    "\n",
    "ax.legend(labels=['0','Sold'])\n",
    "\n",
    "ax.set_xticks([.1,1.1])\n",
    "ax.set_xticklabels(['1','2'])\n",
    "plt.xlabel('Number of Drivers')\n",
    "plt.ylabel('Frequency')\n",
    "plt.title('Policies Sold based on Number of Drivers')"
   ]
  },
  {
   "cell_type": "code",
   "execution_count": 12,
   "metadata": {},
   "outputs": [
    {
     "name": "stdout",
     "output_type": "stream",
     "text": [
      "[[3002. 3249. 2966.]\n",
      " [ 439.  215.  129.]]\n"
     ]
    },
    {
     "data": {
      "text/plain": [
       "Text(0.5, 1.0, 'Policies Sold based on Number of Vehicles')"
      ]
     },
     "execution_count": 12,
     "metadata": {},
     "output_type": "execute_result"
    },
    {
     "data": {
      "image/png": "[encoded data removed]",
      "text/plain": [
       "<Figure size 432x288 with 1 Axes>"
      ]
     },
     "metadata": {
      "needs_background": "light"
     },
     "output_type": "display_data"
    }
   ],
   "source": [
    "## policies sold based on the number of vehicles  \n",
    "\n",
    "sale_by_vehicle = np.empty((numPS,max_vehicle))\n",
    "\n",
    "for j in range(0,numPS):\n",
    "    \n",
    "    for i in range(1,max_vehicle+1):\n",
    "        sale_by_vehicle[j,i-1] = root_ins.loc[(root_ins.policies_sold == click_stat[j]) & (root_ins.NumVehicles == i)].shape[0]\n",
    "\n",
    "print(sale_by_vehicle)\n",
    "\n",
    "X = np.arange(max_vehicle)\n",
    "fig = plt.figure()\n",
    "ax = fig.add_axes([0,0,1,1])\n",
    "ax.bar(X + 0.00, click_by_vehicle[0], color = 'b', width = 0.15)\n",
    "ax.bar(X + 0.15, click_by_vehicle[1], color = 'g', width = 0.15)\n",
    "\n",
    "ax.legend(labels=['0','Sold'])\n",
    "\n",
    "ax.set_xticks([.1,1.1,2.1])\n",
    "ax.set_xticklabels(['1','2','3'])\n",
    "plt.xlabel('Number of Vehicles')\n",
    "plt.ylabel('Frequency')\n",
    "plt.title('Policies Sold based on Number of Vehicles')"
   ]
  },
  {
   "cell_type": "code",
   "execution_count": 49,
   "metadata": {},
   "outputs": [
    {
     "name": "stdout",
     "output_type": "stream",
     "text": [
      "  NumDrivers Frequency MS\n",
      "0          1      2529  M\n",
      "1          2      2662  M\n",
      "2          1      2472  S\n",
      "3          2      2337  S\n"
     ]
    },
    {
     "data": {
      "image/png": "[encoded data removed]",
      "text/plain": [
       "<Figure size 432x288 with 1 Axes>"
      ]
     },
     "metadata": {
      "needs_background": "light"
     },
     "output_type": "display_data"
    }
   ],
   "source": [
    "## Relationship between marital status, number of drivers, and number of vehicles \n",
    "import seaborn as sns \n",
    "\n",
    "## Marital Status and Number of Drivers \n",
    "MS_numDrivers = pd.DataFrame(columns = ['NumDrivers','Frequency','MS'])\n",
    "\n",
    "for j in range(0,numMS):\n",
    "     for i in range(1,max_driver+1):       \n",
    "        freq = root_ins.loc[(root_ins.NumDrivers == i) & (root_ins.MaritalStat == MSvals[j])].shape[0]\n",
    "        temp = pd.DataFrame([[i,freq,MSvals[j]],],columns = ['NumDrivers','Frequency','MS'])\n",
    "        MS_numDrivers = MS_numDrivers.append(temp, ignore_index = True)\n",
    "\n",
    "sns.barplot(x=\"NumDrivers\", y=\"Frequency\", hue=\"MS\", data=MS_numDrivers)\n",
    "print(MS_numDrivers)\n",
    "\n"
   ]
  },
  {
   "cell_type": "code",
   "execution_count": 50,
   "metadata": {},
   "outputs": [
    {
     "name": "stdout",
     "output_type": "stream",
     "text": [
      "1\n",
      "2\n",
      "3\n",
      "1\n",
      "2\n",
      "3\n",
      "  NumVehicle Frequency MS\n",
      "0          1      1732  M\n",
      "1          2      1734  M\n",
      "2          3      1725  M\n",
      "3          1      1709  S\n",
      "4          2      1730  S\n",
      "5          3      1370  S\n"
     ]
    },
    {
     "data": {
      "image/png": "[encoded data removed]",
      "text/plain": [
       "<Figure size 432x288 with 1 Axes>"
      ]
     },
     "metadata": {
      "needs_background": "light"
     },
     "output_type": "display_data"
    }
   ],
   "source": [
    "## Marital Status and Number of Vehicles\n",
    "MS_numVehicle = pd.DataFrame(columns = ['NumVehicle','Frequency','MS'])\n",
    "\n",
    "for j in range(0,numMS):\n",
    "     for i in range(1,max_vehicle+1):       \n",
    "        freq = root_ins.loc[(root_ins.NumVehicles == i) & (root_ins.MaritalStat == MSvals[j])].shape[0]\n",
    "        temp = pd.DataFrame([[i,freq,MSvals[j]],],columns = ['NumVehicle','Frequency','MS'])\n",
    "        MS_numVehicle = MS_numVehicle.append(temp, ignore_index = True)\n",
    "        print(i)\n",
    "\n",
    "sns.barplot(x=\"NumVehicle\", y=\"Frequency\", hue=\"MS\", data=MS_numVehicle)\n",
    "print(MS_numVehicle)"
   ]
  },
  {
   "cell_type": "code",
   "execution_count": 57,
   "metadata": {},
   "outputs": [
    {
     "name": "stdout",
     "output_type": "stream",
     "text": [
      "1\n",
      "2\n",
      "3\n",
      "1\n",
      "2\n",
      "3\n",
      "  NumVehicle Frequency Driver\n",
      "0          1      1709      1\n",
      "1          2      1637      1\n",
      "2          3      1655      1\n",
      "3          1      1732      2\n",
      "4          2      1827      2\n",
      "5          3      1440      2\n"
     ]
    },
    {
     "data": {
      "image/png": "[encoded data removed]",
      "text/plain": [
       "<Figure size 432x288 with 1 Axes>"
      ]
     },
     "metadata": {
      "needs_background": "light"
     },
     "output_type": "display_data"
    }
   ],
   "source": [
    "## Number of Drivers and Number of Vehicles \n",
    "numVehicle_driver = pd.DataFrame(columns = ['NumVehicle','Frequency','Driver'])\n",
    "\n",
    "for j in range(1,max_driver+1):\n",
    "     for i in range(1,max_vehicle+1):       \n",
    "        freq = root_ins.loc[(root_ins.NumVehicles == i) & (root_ins.NumDrivers == j)].shape[0]\n",
    "        temp = pd.DataFrame([[i,freq,j],],columns = ['NumVehicle','Frequency','Driver'])\n",
    "        numVehicle_driver = numVehicle_driver.append(temp, ignore_index = True)\n",
    "        print(i)\n",
    "\n",
    "sns.barplot(x=\"NumVehicle\", y=\"Frequency\", hue=\"Driver\", data=numVehicle_driver)\n",
    "print(numVehicle_driver)"
   ]
  }
 ],
 "metadata": {
  "kernelspec": {
   "display_name": "Python 3",
   "language": "python",
   "name": "python3"
  },
  "language_info": {
   "codemirror_mode": {
    "name": "ipython",
    "version": 3
   },
   "file_extension": ".py",
   "mimetype": "text/x-python",
   "name": "python",
   "nbconvert_exporter": "python",
   "pygments_lexer": "ipython3",
   "version": "3.8.5"
  }
 },
 "nbformat": 4,
 "nbformat_minor": 4
}
