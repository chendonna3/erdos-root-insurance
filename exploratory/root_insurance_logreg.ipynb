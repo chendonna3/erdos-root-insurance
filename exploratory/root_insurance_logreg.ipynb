{
 "cells": [
  {
   "cell_type": "markdown",
   "metadata": {},
   "source": [
    "# Root Insurance Project\n",
    "\n",
    "### Erdos Institute 2021\n",
    "\n",
    "Overview: In this problem, ACME Insurance Company wants to optimize its\n",
    "marketing spend in the Vertical Search channel. In this channel,\n",
    "customers enter information about their insurance needs, and insurers bid\n",
    "in a first-price auction to have their ad shown to the customer. The\n",
    "placement of the ad is determined by the insurer’s bid, with the highest bid\n",
    "showing in the first ad position and the lowest bid shown in the lowest\n",
    "position (in the data for this problem, 5th). The marketing channel\n",
    "manager for Vertical Search wants to understand how to improve the\n",
    "efficiency of the channel by bidding differently.\n",
    "\n",
    "Google Drive Link: https://drive.google.com/drive/u/0/folders/1Wp6EkL-VbrWK9JP4SbcXjh-wb31vPg4V"
   ]
  },
  {
   "cell_type": "code",
   "execution_count": 1,
   "metadata": {},
   "outputs": [],
   "source": [
    "# Import packages\n",
    "## For data handling\n",
    "import pandas as pd\n",
    "import numpy as np\n",
    "\n",
    "## For plotting\n",
    "import matplotlib.pyplot as plt\n",
    "import seaborn as sns\n",
    "\n",
    "## White Background for plot style\n",
    "sns.set_style(\"whitegrid\")\n"
   ]
  },
  {
   "cell_type": "code",
   "execution_count": 2,
   "metadata": {},
   "outputs": [
    {
     "name": "stdout",
     "output_type": "stream",
     "text": [
      "Shape of Data Frame: (10000, 8)\n"
     ]
    },
    {
     "data": {
      "text/html": [
       "<div>\n",
       "<style scoped>\n",
       "    .dataframe tbody tr th:only-of-type {\n",
       "        vertical-align: middle;\n",
       "    }\n",
       "\n",
       "    .dataframe tbody tr th {\n",
       "        vertical-align: top;\n",
       "    }\n",
       "\n",
       "    .dataframe thead th {\n",
       "        text-align: right;\n",
       "    }\n",
       "</style>\n",
       "<table border=\"1\" class=\"dataframe\">\n",
       "  <thead>\n",
       "    <tr style=\"text-align: right;\">\n",
       "      <th></th>\n",
       "      <th>Currently Insured</th>\n",
       "      <th>Number of Vehicles</th>\n",
       "      <th>Number of Drivers</th>\n",
       "      <th>Marital Status</th>\n",
       "      <th>bid</th>\n",
       "      <th>rank</th>\n",
       "      <th>click</th>\n",
       "      <th>policies_sold</th>\n",
       "    </tr>\n",
       "  </thead>\n",
       "  <tbody>\n",
       "    <tr>\n",
       "      <td>0</td>\n",
       "      <td>unknown</td>\n",
       "      <td>2</td>\n",
       "      <td>1</td>\n",
       "      <td>M</td>\n",
       "      <td>10.0</td>\n",
       "      <td>2</td>\n",
       "      <td>False</td>\n",
       "      <td>0</td>\n",
       "    </tr>\n",
       "    <tr>\n",
       "      <td>1</td>\n",
       "      <td>Y</td>\n",
       "      <td>3</td>\n",
       "      <td>1</td>\n",
       "      <td>M</td>\n",
       "      <td>10.0</td>\n",
       "      <td>5</td>\n",
       "      <td>False</td>\n",
       "      <td>0</td>\n",
       "    </tr>\n",
       "    <tr>\n",
       "      <td>2</td>\n",
       "      <td>Y</td>\n",
       "      <td>3</td>\n",
       "      <td>2</td>\n",
       "      <td>M</td>\n",
       "      <td>10.0</td>\n",
       "      <td>5</td>\n",
       "      <td>False</td>\n",
       "      <td>0</td>\n",
       "    </tr>\n",
       "    <tr>\n",
       "      <td>3</td>\n",
       "      <td>N</td>\n",
       "      <td>3</td>\n",
       "      <td>2</td>\n",
       "      <td>S</td>\n",
       "      <td>10.0</td>\n",
       "      <td>4</td>\n",
       "      <td>False</td>\n",
       "      <td>0</td>\n",
       "    </tr>\n",
       "    <tr>\n",
       "      <td>4</td>\n",
       "      <td>unknown</td>\n",
       "      <td>2</td>\n",
       "      <td>2</td>\n",
       "      <td>S</td>\n",
       "      <td>10.0</td>\n",
       "      <td>2</td>\n",
       "      <td>False</td>\n",
       "      <td>0</td>\n",
       "    </tr>\n",
       "  </tbody>\n",
       "</table>\n",
       "</div>"
      ],
      "text/plain": [
       "  Currently Insured  Number of Vehicles  Number of Drivers Marital Status  \\\n",
       "0           unknown                   2                  1              M   \n",
       "1                 Y                   3                  1              M   \n",
       "2                 Y                   3                  2              M   \n",
       "3                 N                   3                  2              S   \n",
       "4           unknown                   2                  2              S   \n",
       "\n",
       "    bid  rank  click  policies_sold  \n",
       "0  10.0     2  False              0  \n",
       "1  10.0     5  False              0  \n",
       "2  10.0     5  False              0  \n",
       "3  10.0     4  False              0  \n",
       "4  10.0     2  False              0  "
      ]
     },
     "execution_count": 2,
     "metadata": {},
     "output_type": "execute_result"
    }
   ],
   "source": [
    "## Read Data\n",
    "df = pd.read_csv(\"../data/Root_insurance_data.csv\")\n",
    "print(\"Shape of Data Frame:\", df.shape)\n",
    "df.head()"
   ]
  },
  {
   "cell_type": "markdown",
   "metadata": {},
   "source": [
    "### Plotting the Data\n"
   ]
  },
  {
   "cell_type": "code",
   "execution_count": 38,
   "metadata": {},
   "outputs": [
    {
     "data": {
      "text/plain": [
       "Text(0.5, 1.0, 'Policies Sold vs. Rank')"
      ]
     },
     "execution_count": 38,
     "metadata": {},
     "output_type": "execute_result"
    },
    {
     "data": {
      "image/png": "[encoded data removed]",
      "text/plain": [
       "<Figure size 1080x720 with 6 Axes>"
      ]
     },
     "metadata": {
      "needs_background": "light"
     },
     "output_type": "display_data"
    }
   ],
   "source": [
    "# Creating barplots\n",
    "\n",
    "fig, axes = plt.subplots(2, 3, figsize=(15, 10))\n",
    "\n",
    "## Policies sold vs. Click\n",
    "## Are those who click more likely to buy a policy?\n",
    "sns.barplot(x=\"click\", y=\"policies_sold\", data=df, ax=axes[0][0])\n",
    "axes[0][0].set_title(\"Policies Sold vs. Click\", fontsize=16)\n",
    "\n",
    "## Click vs. Marital Status\n",
    "## Are those who are single more likely to click?\n",
    "sns.barplot(x=\"Marital Status\", y=\"policies_sold\", data=df, ax=axes[0][1])\n",
    "axes[0][1].set_title(\"Policies Sold vs. Marital Status\", fontsize=16)\n",
    "\n",
    "## Click vs. Number of Drivers\n",
    "sns.barplot(x=\"Number of Drivers\", y=\"policies_sold\", data=df, ax=axes[0][2])\n",
    "axes[0][2].set_title(\"Policies Sold vs. Number of Drivers\", fontsize=16)\n",
    "\n",
    "## Click vs. Number of Vehicles\n",
    "sns.barplot(x=\"Number of Vehicles\", y=\"policies_sold\", data=df, ax=axes[1][0])\n",
    "axes[1][0].set_title(\"Policies Sold vs. Number of Vehicles\", fontsize=16)\n",
    "\n",
    "## Click vs. Currently Insured\n",
    "sns.barplot(x=\"Currently Insured\", y=\"policies_sold\", data=df, ax=axes[1][1])\n",
    "axes[1][1].set_title(\"Policies Sold vs. Currently Insured\", fontsize=16)\n",
    "\n",
    "## Click vs. Rank\n",
    "sns.barplot(x=\"rank\", y=\"policies_sold\", data=df, ax=axes[1][2])\n",
    "axes[1][2].set_title(\"Policies Sold vs. Rank\", fontsize=16)\n"
   ]
  },
  {
   "cell_type": "markdown",
   "metadata": {},
   "source": [
    "### Classification - Logistic Regression\n",
    "\n",
    "We want to create a model that can predict whether someone is likely to buy a policy or not.\n",
    "Based on that model, the bidding will change (i.e., bid more for those more likely to buy a policy)"
   ]
  },
  {
   "cell_type": "code",
   "execution_count": 4,
   "metadata": {},
   "outputs": [],
   "source": [
    "# Logistic Regression Model\n",
    "\n",
    "## import the logistic regression method\n",
    "from sklearn.linear_model import LogisticRegression\n",
    "## import package to perform stratified test-train split\n",
    "from sklearn.model_selection import train_test_split\n",
    "\n"
   ]
  },
  {
   "cell_type": "code",
   "execution_count": 5,
   "metadata": {},
   "outputs": [
    {
     "data": {
      "text/html": [
       "<div>\n",
       "<style scoped>\n",
       "    .dataframe tbody tr th:only-of-type {\n",
       "        vertical-align: middle;\n",
       "    }\n",
       "\n",
       "    .dataframe tbody tr th {\n",
       "        vertical-align: top;\n",
       "    }\n",
       "\n",
       "    .dataframe thead th {\n",
       "        text-align: right;\n",
       "    }\n",
       "</style>\n",
       "<table border=\"1\" class=\"dataframe\">\n",
       "  <thead>\n",
       "    <tr style=\"text-align: right;\">\n",
       "      <th></th>\n",
       "      <th>Currently Insured</th>\n",
       "      <th>Number of Vehicles</th>\n",
       "      <th>Number of Drivers</th>\n",
       "      <th>Marital Status</th>\n",
       "      <th>bid</th>\n",
       "      <th>rank</th>\n",
       "      <th>click</th>\n",
       "      <th>policies_sold</th>\n",
       "      <th>No_insur</th>\n",
       "      <th>Yes_insur</th>\n",
       "      <th>Married</th>\n",
       "    </tr>\n",
       "  </thead>\n",
       "  <tbody>\n",
       "    <tr>\n",
       "      <td>0</td>\n",
       "      <td>unknown</td>\n",
       "      <td>2</td>\n",
       "      <td>1</td>\n",
       "      <td>M</td>\n",
       "      <td>10.0</td>\n",
       "      <td>2</td>\n",
       "      <td>False</td>\n",
       "      <td>0</td>\n",
       "      <td>0</td>\n",
       "      <td>0</td>\n",
       "      <td>1</td>\n",
       "    </tr>\n",
       "    <tr>\n",
       "      <td>1</td>\n",
       "      <td>Y</td>\n",
       "      <td>3</td>\n",
       "      <td>1</td>\n",
       "      <td>M</td>\n",
       "      <td>10.0</td>\n",
       "      <td>5</td>\n",
       "      <td>False</td>\n",
       "      <td>0</td>\n",
       "      <td>0</td>\n",
       "      <td>1</td>\n",
       "      <td>1</td>\n",
       "    </tr>\n",
       "    <tr>\n",
       "      <td>2</td>\n",
       "      <td>Y</td>\n",
       "      <td>3</td>\n",
       "      <td>2</td>\n",
       "      <td>M</td>\n",
       "      <td>10.0</td>\n",
       "      <td>5</td>\n",
       "      <td>False</td>\n",
       "      <td>0</td>\n",
       "      <td>0</td>\n",
       "      <td>1</td>\n",
       "      <td>1</td>\n",
       "    </tr>\n",
       "    <tr>\n",
       "      <td>3</td>\n",
       "      <td>N</td>\n",
       "      <td>3</td>\n",
       "      <td>2</td>\n",
       "      <td>S</td>\n",
       "      <td>10.0</td>\n",
       "      <td>4</td>\n",
       "      <td>False</td>\n",
       "      <td>0</td>\n",
       "      <td>1</td>\n",
       "      <td>0</td>\n",
       "      <td>0</td>\n",
       "    </tr>\n",
       "    <tr>\n",
       "      <td>4</td>\n",
       "      <td>unknown</td>\n",
       "      <td>2</td>\n",
       "      <td>2</td>\n",
       "      <td>S</td>\n",
       "      <td>10.0</td>\n",
       "      <td>2</td>\n",
       "      <td>False</td>\n",
       "      <td>0</td>\n",
       "      <td>0</td>\n",
       "      <td>0</td>\n",
       "      <td>0</td>\n",
       "    </tr>\n",
       "    <tr>\n",
       "      <td>...</td>\n",
       "      <td>...</td>\n",
       "      <td>...</td>\n",
       "      <td>...</td>\n",
       "      <td>...</td>\n",
       "      <td>...</td>\n",
       "      <td>...</td>\n",
       "      <td>...</td>\n",
       "      <td>...</td>\n",
       "      <td>...</td>\n",
       "      <td>...</td>\n",
       "      <td>...</td>\n",
       "    </tr>\n",
       "    <tr>\n",
       "      <td>9995</td>\n",
       "      <td>N</td>\n",
       "      <td>1</td>\n",
       "      <td>2</td>\n",
       "      <td>S</td>\n",
       "      <td>10.0</td>\n",
       "      <td>3</td>\n",
       "      <td>True</td>\n",
       "      <td>0</td>\n",
       "      <td>1</td>\n",
       "      <td>0</td>\n",
       "      <td>0</td>\n",
       "    </tr>\n",
       "    <tr>\n",
       "      <td>9996</td>\n",
       "      <td>unknown</td>\n",
       "      <td>3</td>\n",
       "      <td>2</td>\n",
       "      <td>M</td>\n",
       "      <td>10.0</td>\n",
       "      <td>3</td>\n",
       "      <td>False</td>\n",
       "      <td>0</td>\n",
       "      <td>0</td>\n",
       "      <td>0</td>\n",
       "      <td>1</td>\n",
       "    </tr>\n",
       "    <tr>\n",
       "      <td>9997</td>\n",
       "      <td>Y</td>\n",
       "      <td>3</td>\n",
       "      <td>1</td>\n",
       "      <td>S</td>\n",
       "      <td>10.0</td>\n",
       "      <td>5</td>\n",
       "      <td>False</td>\n",
       "      <td>0</td>\n",
       "      <td>0</td>\n",
       "      <td>1</td>\n",
       "      <td>0</td>\n",
       "    </tr>\n",
       "    <tr>\n",
       "      <td>9998</td>\n",
       "      <td>unknown</td>\n",
       "      <td>3</td>\n",
       "      <td>1</td>\n",
       "      <td>M</td>\n",
       "      <td>10.0</td>\n",
       "      <td>3</td>\n",
       "      <td>False</td>\n",
       "      <td>0</td>\n",
       "      <td>0</td>\n",
       "      <td>0</td>\n",
       "      <td>1</td>\n",
       "    </tr>\n",
       "    <tr>\n",
       "      <td>9999</td>\n",
       "      <td>Y</td>\n",
       "      <td>1</td>\n",
       "      <td>1</td>\n",
       "      <td>M</td>\n",
       "      <td>10.0</td>\n",
       "      <td>5</td>\n",
       "      <td>False</td>\n",
       "      <td>0</td>\n",
       "      <td>0</td>\n",
       "      <td>1</td>\n",
       "      <td>1</td>\n",
       "    </tr>\n",
       "  </tbody>\n",
       "</table>\n",
       "<p>10000 rows × 11 columns</p>\n",
       "</div>"
      ],
      "text/plain": [
       "     Currently Insured  Number of Vehicles  Number of Drivers Marital Status  \\\n",
       "0              unknown                   2                  1              M   \n",
       "1                    Y                   3                  1              M   \n",
       "2                    Y                   3                  2              M   \n",
       "3                    N                   3                  2              S   \n",
       "4              unknown                   2                  2              S   \n",
       "...                ...                 ...                ...            ...   \n",
       "9995                 N                   1                  2              S   \n",
       "9996           unknown                   3                  2              M   \n",
       "9997                 Y                   3                  1              S   \n",
       "9998           unknown                   3                  1              M   \n",
       "9999                 Y                   1                  1              M   \n",
       "\n",
       "       bid  rank  click  policies_sold  No_insur  Yes_insur  Married  \n",
       "0     10.0     2  False              0         0          0        1  \n",
       "1     10.0     5  False              0         0          1        1  \n",
       "2     10.0     5  False              0         0          1        1  \n",
       "3     10.0     4  False              0         1          0        0  \n",
       "4     10.0     2  False              0         0          0        0  \n",
       "...    ...   ...    ...            ...       ...        ...      ...  \n",
       "9995  10.0     3   True              0         1          0        0  \n",
       "9996  10.0     3  False              0         0          0        1  \n",
       "9997  10.0     5  False              0         0          1        0  \n",
       "9998  10.0     3  False              0         0          0        1  \n",
       "9999  10.0     5  False              0         0          1        1  \n",
       "\n",
       "[10000 rows x 11 columns]"
      ]
     },
     "execution_count": 5,
     "metadata": {},
     "output_type": "execute_result"
    }
   ],
   "source": [
    "# Creating dummy variables for the categorical data\n",
    "# Note: ONLY RUN ONCE\n",
    "\n",
    "df[['No_insur','Yes_insur']] = pd.get_dummies(df['Currently Insured'])[['N','Y']] \n",
    "df['Married'] = pd.get_dummies(df['Marital Status'])['M']\n",
    "\n",
    "df"
   ]
  },
  {
   "cell_type": "code",
   "execution_count": 6,
   "metadata": {
    "scrolled": false
   },
   "outputs": [],
   "source": [
    "# Split train-test data\n",
    "random_seed = 600\n",
    "\n",
    "X = df[['No_insur','Yes_insur',\n",
    "       'Number of Vehicles',\n",
    "       'Number of Drivers',\n",
    "       'Married',\n",
    "       'rank',\n",
    "       'click']]\n",
    "y = df['policies_sold']\n",
    "X_train, X_test, y_train, y_test = train_test_split(X,y,\n",
    "                                                    test_size=.2,\n",
    "                                                    shuffle=True,\n",
    "                                                    random_state=random_seed,\n",
    "                                                    stratify=y)\n"
   ]
  },
  {
   "cell_type": "code",
   "execution_count": 7,
   "metadata": {},
   "outputs": [
    {
     "data": {
      "text/plain": [
       "LogisticRegression(C=1.0, class_weight=None, dual=False, fit_intercept=True,\n",
       "                   intercept_scaling=1, l1_ratio=None, max_iter=100,\n",
       "                   multi_class='warn', n_jobs=None, penalty='l2',\n",
       "                   random_state=None, solver='lbfgs', tol=0.0001, verbose=0,\n",
       "                   warm_start=False)"
      ]
     },
     "execution_count": 7,
     "metadata": {},
     "output_type": "execute_result"
    }
   ],
   "source": [
    "# Fit the logistic regression model\n",
    "clf = LogisticRegression(solver='lbfgs')\n",
    "\n",
    "clf.fit(X_train,y_train)"
   ]
  },
  {
   "cell_type": "markdown",
   "metadata": {},
   "source": [
    "### Evaluation\n",
    "Let's see how well our model performed"
   ]
  },
  {
   "cell_type": "code",
   "execution_count": 8,
   "metadata": {},
   "outputs": [],
   "source": [
    "# Import evaluation metrics from sklearn\n",
    "from sklearn.metrics import classification_report"
   ]
  },
  {
   "cell_type": "code",
   "execution_count": 11,
   "metadata": {
    "scrolled": true
   },
   "outputs": [
    {
     "name": "stdout",
     "output_type": "stream",
     "text": [
      "              precision    recall  f1-score   support\n",
      "\n",
      "           0       0.94      0.98      0.96      1843\n",
      "           1       0.60      0.27      0.38       157\n",
      "\n",
      "    accuracy                           0.93      2000\n",
      "   macro avg       0.77      0.63      0.67      2000\n",
      "weighted avg       0.91      0.93      0.92      2000\n",
      "\n"
     ]
    }
   ],
   "source": [
    "# Predicting number of policies sold and probability of policies sold\n",
    "test_pred = clf.predict(X_test)\n",
    "test_prob = clf.predict_proba(X_test)[:,1]\n",
    "\n",
    "# Classification Report\n",
    "print(classification_report(y_test, test_pred))"
   ]
  },
  {
   "cell_type": "markdown",
   "metadata": {},
   "source": [
    "### Interpretation\n",
    "Which categorical variables have more weight?\n"
   ]
  },
  {
   "cell_type": "code",
   "execution_count": 10,
   "metadata": {
    "scrolled": true
   },
   "outputs": [
    {
     "data": {
      "text/html": [
       "<div>\n",
       "<style scoped>\n",
       "    .dataframe tbody tr th:only-of-type {\n",
       "        vertical-align: middle;\n",
       "    }\n",
       "\n",
       "    .dataframe tbody tr th {\n",
       "        vertical-align: top;\n",
       "    }\n",
       "\n",
       "    .dataframe thead th {\n",
       "        text-align: right;\n",
       "    }\n",
       "</style>\n",
       "<table border=\"1\" class=\"dataframe\">\n",
       "  <thead>\n",
       "    <tr style=\"text-align: right;\">\n",
       "      <th></th>\n",
       "      <th>feature</th>\n",
       "      <th>coefficient</th>\n",
       "    </tr>\n",
       "  </thead>\n",
       "  <tbody>\n",
       "    <tr>\n",
       "      <td>7</td>\n",
       "      <td>click</td>\n",
       "      <td>6.471637</td>\n",
       "    </tr>\n",
       "    <tr>\n",
       "      <td>1</td>\n",
       "      <td>No_insur</td>\n",
       "      <td>0.069662</td>\n",
       "    </tr>\n",
       "    <tr>\n",
       "      <td>5</td>\n",
       "      <td>Married</td>\n",
       "      <td>0.043687</td>\n",
       "    </tr>\n",
       "    <tr>\n",
       "      <td>6</td>\n",
       "      <td>rank</td>\n",
       "      <td>-0.021838</td>\n",
       "    </tr>\n",
       "    <tr>\n",
       "      <td>3</td>\n",
       "      <td>Number of Vehicles</td>\n",
       "      <td>-0.218253</td>\n",
       "    </tr>\n",
       "    <tr>\n",
       "      <td>4</td>\n",
       "      <td>Number of Drivers</td>\n",
       "      <td>-0.326611</td>\n",
       "    </tr>\n",
       "    <tr>\n",
       "      <td>2</td>\n",
       "      <td>Yes_insur</td>\n",
       "      <td>-0.516622</td>\n",
       "    </tr>\n",
       "    <tr>\n",
       "      <td>0</td>\n",
       "      <td>intercept</td>\n",
       "      <td>-5.831630</td>\n",
       "    </tr>\n",
       "  </tbody>\n",
       "</table>\n",
       "</div>"
      ],
      "text/plain": [
       "              feature  coefficient\n",
       "7               click     6.471637\n",
       "1            No_insur     0.069662\n",
       "5             Married     0.043687\n",
       "6                rank    -0.021838\n",
       "3  Number of Vehicles    -0.218253\n",
       "4   Number of Drivers    -0.326611\n",
       "2           Yes_insur    -0.516622\n",
       "0           intercept    -5.831630"
      ]
     },
     "execution_count": 10,
     "metadata": {},
     "output_type": "execute_result"
    }
   ],
   "source": [
    "# Get coefficients of each feature\n",
    "coefficients = np.hstack((clf.intercept_, clf.coef_[0]))\n",
    "cat_cols = ['No_insur','Yes_insur',\n",
    "       'Number of Vehicles',\n",
    "       'Number of Drivers',\n",
    "       'Married',\n",
    "       'rank',\n",
    "       'click']\n",
    "\n",
    "# Create a dataframe of each feature's coefficient\n",
    "df_coeff = pd.DataFrame(data={'feature': ['intercept'] + cat_cols, 'coefficient': coefficients})\n",
    "\n",
    "# Rank the coefficients from highest to lowest\n",
    "df_coeff.sort_values(by=['coefficient'], ascending = False)\n"
   ]
  },
  {
   "cell_type": "markdown",
   "metadata": {},
   "source": [
    "### Cross Validation"
   ]
  },
  {
   "cell_type": "code",
   "execution_count": 39,
   "metadata": {},
   "outputs": [],
   "source": [
    "# Importing packages\n",
    "\n",
    "## import StratifiedKFold for cross validation\n",
    "from sklearn.model_selection import StratifiedKFold\n",
    "\n",
    "## import package to get cross validation scores\n",
    "from sklearn.model_selection import cross_val_score"
   ]
  },
  {
   "cell_type": "code",
   "execution_count": 42,
   "metadata": {
    "scrolled": true
   },
   "outputs": [
    {
     "name": "stdout",
     "output_type": "stream",
     "text": [
      "Mean recall is:  0.21\n",
      "Standard deviation is:  0.05\n"
     ]
    }
   ],
   "source": [
    "# Prepare cross validation\n",
    "cv = StratifiedKFold(n_splits=10, random_state=1, shuffle=True)\n",
    "\n",
    "# Evaluate model using cv\n",
    "scores = cross_val_score(clf, X, y, scoring='recall', cv=cv)\n",
    "\n",
    "# Mean Accuracy\n",
    "print('Mean recall is: ', round(np.mean(scores),2))\n",
    "print('Standard deviation is: ', round(np.std(scores),2))\n"
   ]
  },
  {
   "cell_type": "markdown",
   "metadata": {},
   "source": [
    "### Recursive Feature Elimination (RFE)\n",
    "This is a feature selection algorithm. It repeatedly constucts a model and chooses the best or worst performing feature.\n",
    "We only want to use the most relevant features for our model. "
   ]
  },
  {
   "cell_type": "code",
   "execution_count": 51,
   "metadata": {},
   "outputs": [],
   "source": [
    "# Import RFE \n",
    "from sklearn.feature_selection import RFE"
   ]
  },
  {
   "cell_type": "code",
   "execution_count": 63,
   "metadata": {},
   "outputs": [
    {
     "data": {
      "text/plain": [
       "RFE(estimator=LogisticRegression(C=1.0, class_weight=None, dual=False,\n",
       "                                 fit_intercept=True, intercept_scaling=1,\n",
       "                                 l1_ratio=None, max_iter=100,\n",
       "                                 multi_class='warn', n_jobs=None, penalty='l2',\n",
       "                                 random_state=None, solver='lbfgs', tol=0.0001,\n",
       "                                 verbose=0, warm_start=False),\n",
       "    n_features_to_select=4, step=1, verbose=0)"
      ]
     },
     "execution_count": 63,
     "metadata": {},
     "output_type": "execute_result"
    }
   ],
   "source": [
    "# Define RFE method and select top 4 features\n",
    "rfe = RFE(estimator=LogisticRegression(solver='lbfgs'), n_features_to_select=4)\n",
    "\n",
    "# Fit the model\n",
    "rfe.fit(X, y)\n"
   ]
  },
  {
   "cell_type": "code",
   "execution_count": 64,
   "metadata": {},
   "outputs": [
    {
     "name": "stdout",
     "output_type": "stream",
     "text": [
      "[False  True  True  True False False  True]\n",
      "[4 1 1 1 2 3 1]\n"
     ]
    },
    {
     "data": {
      "text/html": [
       "<div>\n",
       "<style scoped>\n",
       "    .dataframe tbody tr th:only-of-type {\n",
       "        vertical-align: middle;\n",
       "    }\n",
       "\n",
       "    .dataframe tbody tr th {\n",
       "        vertical-align: top;\n",
       "    }\n",
       "\n",
       "    .dataframe thead th {\n",
       "        text-align: right;\n",
       "    }\n",
       "</style>\n",
       "<table border=\"1\" class=\"dataframe\">\n",
       "  <thead>\n",
       "    <tr style=\"text-align: right;\">\n",
       "      <th></th>\n",
       "      <th>feature</th>\n",
       "      <th>rank</th>\n",
       "    </tr>\n",
       "  </thead>\n",
       "  <tbody>\n",
       "    <tr>\n",
       "      <td>1</td>\n",
       "      <td>Yes_insur</td>\n",
       "      <td>1</td>\n",
       "    </tr>\n",
       "    <tr>\n",
       "      <td>2</td>\n",
       "      <td>Number of Vehicles</td>\n",
       "      <td>1</td>\n",
       "    </tr>\n",
       "    <tr>\n",
       "      <td>3</td>\n",
       "      <td>Number of Drivers</td>\n",
       "      <td>1</td>\n",
       "    </tr>\n",
       "    <tr>\n",
       "      <td>6</td>\n",
       "      <td>click</td>\n",
       "      <td>1</td>\n",
       "    </tr>\n",
       "    <tr>\n",
       "      <td>4</td>\n",
       "      <td>Married</td>\n",
       "      <td>2</td>\n",
       "    </tr>\n",
       "    <tr>\n",
       "      <td>5</td>\n",
       "      <td>rank</td>\n",
       "      <td>3</td>\n",
       "    </tr>\n",
       "    <tr>\n",
       "      <td>0</td>\n",
       "      <td>No_insur</td>\n",
       "      <td>4</td>\n",
       "    </tr>\n",
       "  </tbody>\n",
       "</table>\n",
       "</div>"
      ],
      "text/plain": [
       "              feature  rank\n",
       "1           Yes_insur     1\n",
       "2  Number of Vehicles     1\n",
       "3   Number of Drivers     1\n",
       "6               click     1\n",
       "4             Married     2\n",
       "5                rank     3\n",
       "0            No_insur     4"
      ]
     },
     "execution_count": 64,
     "metadata": {},
     "output_type": "execute_result"
    }
   ],
   "source": [
    "# Selection of features\n",
    "print(rfe.support_)\n",
    "print(rfe.ranking_)\n",
    "\n",
    "# Make a dataframe of feature ranking\n",
    "df_rfe = pd.DataFrame(data={'feature': cat_cols, 'rank': rfe.ranking_})\n",
    "df_rfe.sort_values(by=['rank'])"
   ]
  },
  {
   "cell_type": "code",
   "execution_count": 67,
   "metadata": {},
   "outputs": [
    {
     "name": "stdout",
     "output_type": "stream",
     "text": [
      "              precision    recall  f1-score   support\n",
      "\n",
      "           0       0.94      0.98      0.96      1843\n",
      "           1       0.60      0.27      0.38       157\n",
      "\n",
      "    accuracy                           0.93      2000\n",
      "   macro avg       0.77      0.63      0.67      2000\n",
      "weighted avg       0.91      0.93      0.92      2000\n",
      "\n"
     ]
    }
   ],
   "source": [
    "# Create new logistic regression model with best 3 features\n",
    "\n",
    "## Split train-test data\n",
    "random_seed = 600\n",
    "\n",
    "X_4feat = df[['Yes_insur',\n",
    "       'Number of Vehicles',\n",
    "       'Number of Drivers',\n",
    "       'click']]\n",
    "y = df['policies_sold']\n",
    "X_train_4f, X_test_4f, y_train_4f, y_test_4f = train_test_split(X_4feat,y,\n",
    "                                                    test_size=.2,\n",
    "                                                    shuffle=True,\n",
    "                                                    random_state=random_seed,\n",
    "                                                    stratify=y)\n",
    "\n",
    "## Fit the logistic regression model\n",
    "clf = LogisticRegression(solver='lbfgs')\n",
    "\n",
    "clf.fit(X_train_4f,y_train_4f)\n",
    "\n",
    "## Get Classification Report\n",
    "test_pred_4f = clf.predict(X_test_4f)\n",
    "print(classification_report(y_test_4f, test_pred_4f))\n"
   ]
  },
  {
   "cell_type": "code",
   "execution_count": null,
   "metadata": {},
   "outputs": [],
   "source": []
  }
 ],
 "metadata": {
  "kernelspec": {
   "display_name": "Python 3",
   "language": "python",
   "name": "python3"
  },
  "language_info": {
   "codemirror_mode": {
    "name": "ipython",
    "version": 3
   },
   "file_extension": ".py",
   "mimetype": "text/x-python",
   "name": "python",
   "nbconvert_exporter": "python",
   "pygments_lexer": "ipython3",
   "version": "3.7.4"
  }
 },
 "nbformat": 4,
 "nbformat_minor": 2
}
